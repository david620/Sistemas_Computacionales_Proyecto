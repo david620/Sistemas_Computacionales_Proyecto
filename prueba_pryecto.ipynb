{
 "cells": [
  {
   "cell_type": "code",
   "execution_count": 184,
   "metadata": {},
   "outputs": [],
   "source": [
    "import pywt\n",
    "import pandas as pd\n",
    "import numpy as np\n",
    "from pandas.plotting import scatter_matrix\n",
    "import matplotlib.pyplot as plt\n",
    "import seaborn as sns\n",
    "from sklearn import model_selection\n",
    "from sklearn.linear_model import LogisticRegression\n",
    "from sklearn.tree import DecisionTreeClassifier\n",
    "from sklearn.neighbors import KNeighborsClassifier\n",
    "from sklearn.discriminant_analysis import LinearDiscriminantAnalysis\n",
    "from sklearn.naive_bayes import GaussianNB\n",
    "from sklearn.svm import SVC\n",
    "from sklearn import svm\n",
    "from sklearn import metrics\n",
    "from sklearn.metrics import classification_report\n",
    "from sklearn.metrics import confusion_matrix\n",
    "from sklearn.metrics import accuracy_score\n"
   ]
  },
  {
   "cell_type": "code",
   "execution_count": 185,
   "metadata": {},
   "outputs": [],
   "source": [
    "text_file = open('C:/Users/David/Desktop/A-2018/Seminario/Emociones_Sensor/DATA/Mudafar/tristeza_mudafar.txt', \"r\")\n",
    "lines = text_file.read().split('\\n')\n",
    "text_file.close()\n",
    "\n",
    "text_file_felicidad = open('C:/Users/David/Desktop/A-2018/Seminario/Emociones_Sensor/DATA/Mudafar/felicidad_mudafar.txt', \"r\")\n",
    "lines2 = text_file_felicidad.read().split('\\n')\n",
    "text_file_felicidad.close()\n"
   ]
  },
  {
   "cell_type": "code",
   "execution_count": 186,
   "metadata": {},
   "outputs": [],
   "source": [
    "import numpy as np\n",
    "dataset_list = \",\".join(lines)\n",
    "dataset_array = []\n",
    "for item in dataset_list.split('\\n'): # comma, or other\n",
    "    dataset_array.append(item)"
   ]
  },
  {
   "cell_type": "code",
   "execution_count": 187,
   "metadata": {},
   "outputs": [],
   "source": [
    "dataset_list_felicidad = \",\".join(lines2)\n",
    "dataset_array2 = []\n",
    "for item in dataset_list_felicidad.split('\\n'): # comma, or other\n",
    "    dataset_array2.append(item)"
   ]
  },
  {
   "cell_type": "code",
   "execution_count": 188,
   "metadata": {},
   "outputs": [
    {
     "data": {
      "text/plain": [
       "['4,22,14,2,9,5,5,17,11,11,10,16,7,11,27,19,8,16,21,2,22,3,3,5,6,19,7,9,14,2,16,3,23,6,11,4,21,7,23,7,19,6,16,12,2,11,11,8,24,25,8,12,5,21,4,4,14,17,11,6,3,6,15,24,2,6,2,19,13,8,6,6,14,8,15,13,12,3,33,17,14,18,7,14,11,2,9,5,19,9,3,5,2,11,2,19,14,6,7,10,4,5,7,3,31,28,11,11,4,24,27,18,10,10,12,36,28,11,5,19,19']"
      ]
     },
     "execution_count": 188,
     "metadata": {},
     "output_type": "execute_result"
    }
   ],
   "source": [
    "dataset_array"
   ]
  },
  {
   "cell_type": "code",
   "execution_count": 189,
   "metadata": {},
   "outputs": [
    {
     "data": {
      "text/plain": [
       "['6,9,8,9,7,2,13,5,6,5,2,6,9,2,22,21,9,11,4,12,19,29,5,8,16,27,4,16,18,2,20,7,24,20,15,17,6,22,16,10,4,6,10,5,4,14,12,18,14,9,27,36,12,9,26,26,15,4,3,10,14,5,23,4,5,20,7,13,14,11,44,34,14,4,5,6,6,3,3,4,7,8,3,4,25,10,23,28,8,5,8,4,13,11,22,12,20,17,24,28,5,3,4,6,5,19,15,7,11,3,4,8,6,6,16,29,2,17,22,32,3,29,30,34,21,5,7,12,7,10,9,8,13,18,4,33,36,36,14,4,12,5,12,20,8,7,3,7,6,17,16,17,27,23,15,15,20,25']"
      ]
     },
     "execution_count": 189,
     "metadata": {},
     "output_type": "execute_result"
    }
   ],
   "source": [
    "dataset_array2"
   ]
  },
  {
   "cell_type": "code",
   "execution_count": 190,
   "metadata": {},
   "outputs": [],
   "source": [
    "datos_tristeza = [4,22,14,2,9,5,5,17,11,11,10,16,7,11,27,19,8,16,21,2,22,3,3,5,6,19,7,9,14,2,16,3,23,6,11,4,21,7,23,7,19,6,16,12,2,11,11,8,24,25,8,12,5,21,4,4,14,17,11,6,3,6,15,24,2,6,2,19,13,8,6,6,14,8,15,13,12,3,33,17,14,18,7,14,11,2,9,5,19,9,3,5,2,11,2,19,14,6,7,10,4,5,7,3,31,28,11,11,4,24,27,18,10,10,12,36,28,11,5,19,19]"
   ]
  },
  {
   "cell_type": "code",
   "execution_count": 191,
   "metadata": {},
   "outputs": [],
   "source": [
    "datos_felicidad = [6,9,8,9,7,2,13,5,6,5,2,6,9,2,22,21,9,11,4,12,19,29,5,8,16,27,4,16,18,2,20,7,24,20,15,17,6,22,16,10,4,6,10,5,4,14,12,18,14,9,27,36,12,9,26,26,15,4,3,10,14,5,23,4,5,20,7,13,14,11,44,34,14,4,5,6,6,3,3,4,7,8,3,4,25,10,23,28,8,5,8,4,13,11,22,12,20,17,24,28,5,3,4,6,5,19,15,7,11,3,4,8,6,6,16,29,2,17,22,32,3,29,30,34,21,5,7,12,7,10,9,8,13,18,4,33,36,36,14,4,12,5,12,20,8,7,3,7,6,17,16,17,27,23,15,15,20,25]"
   ]
  },
  {
   "cell_type": "code",
   "execution_count": 192,
   "metadata": {},
   "outputs": [],
   "source": [
    ">>> cA, cD = pywt.dwt(datos_tristeza, 'db1')"
   ]
  },
  {
   "cell_type": "code",
   "execution_count": 193,
   "metadata": {},
   "outputs": [],
   "source": [
    ">>> cA, cD = pywt.dwt(datos_felicidad, 'db1')"
   ]
  },
  {
   "cell_type": "code",
   "execution_count": 194,
   "metadata": {},
   "outputs": [],
   "source": [
    ">>> import pywt\n",
    ">>> coeffs_tristeza = pywt.wavedecn(datos_tristeza, wavelet='db2', level=2)\n",
    ">>> arr_tristeza, coeff_slices_tristeza = pywt.coeffs_to_array(coeffs_tristeza)"
   ]
  },
  {
   "cell_type": "code",
   "execution_count": 195,
   "metadata": {},
   "outputs": [],
   "source": [
    ">>> import pywt\n",
    ">>> coeffs_felicidad = pywt.wavedecn(datos_felicidad, wavelet='db2', level=2)\n",
    ">>> arr_felicidad, coeff_slices_felicidad = pywt.coeffs_to_array(coeffs_felicidad)"
   ]
  },
  {
   "cell_type": "code",
   "execution_count": 196,
   "metadata": {},
   "outputs": [
    {
     "data": {
      "text/plain": [
       "[array([20.95753175, 26.45841195, 13.02932852, 22.84391109, 26.01346189,\n",
       "        33.95272228, 17.4375    , 19.82475953, 17.32716426, 22.35168332,\n",
       "        25.4375    , 25.71289925, 16.74495468, 34.34775404, 21.43421507,\n",
       "        23.38934209, 16.10048095, 18.80921507, 20.66298095, 20.32836663,\n",
       "        25.30593014, 35.80079849, 15.78469602, 19.59687384, 11.8205944 ,\n",
       "        21.1124183 ,  8.85801733, 36.86810797, 32.52451905, 29.78710075,\n",
       "        38.37259526, 37.53108891]),\n",
       " {'d': array([ -6.85464607,  -2.15520872,   4.75656986,   1.96650635,\n",
       "           7.49158342,  -1.24343014, -10.55857072,   1.02900635,\n",
       "          -0.89503175,  -5.29871593,   3.11482304,   2.16057621,\n",
       "          -8.75088019,  -8.71049451, -11.90576674,  -0.57804446,\n",
       "          17.82948267,   4.75208256,  -4.38693735,   5.87259526,\n",
       "           9.81514058,   1.59150635,  -2.46858891,  -5.29871593,\n",
       "           7.82563972,   1.3214746 , -14.52507707, -12.16562153,\n",
       "          11.51490011,  17.49486835,  -7.0998366 ,   5.25      ])},\n",
       " {'d': array([-11.02270384,   5.29649924,   2.85381112,  -6.31319305,\n",
       "          -0.56840607,  -3.25133087,  -4.33737503,  10.03819564,\n",
       "          -8.78806678,  11.97933848,  13.78858223,  -3.42470675,\n",
       "          -5.66614544,  -3.52624272,   7.82214096,   9.67535107,\n",
       "          13.59911354,   2.94854546,  11.86602177,  11.57252754,\n",
       "           8.4506062 ,   3.78506177,  -8.39983821,   2.61357444,\n",
       "           4.78566277,  -7.81284977,  -9.68464225,  -3.93985528,\n",
       "           2.08664517,   0.68172279,  -3.15659652,  -0.77645714,\n",
       "          -8.54534054,  -9.106945  ,   2.49345611,  -1.35415439,\n",
       "           5.7262046 ,   2.66434243,   3.73429378,  17.16932263,\n",
       "          -5.06306419,  -6.7521896 ,   4.1918727 ,   3.24203968,\n",
       "           9.26173851,  -4.3813414 ,  -5.14850734, -10.22766434,\n",
       "           4.29589824,  -2.13061153,  -2.21605469,   2.76836796,\n",
       "          10.83074559,  -6.39863621, -12.134132  ,   7.99551684,\n",
       "          -3.99311283, -10.88400313,   8.48777094, -11.08276301,\n",
       "           1.81173332,   6.76148078])}]"
      ]
     },
     "execution_count": 196,
     "metadata": {},
     "output_type": "execute_result"
    }
   ],
   "source": [
    "coeffs_tristeza"
   ]
  },
  {
   "cell_type": "code",
   "execution_count": 197,
   "metadata": {},
   "outputs": [
    {
     "data": {
      "text/plain": [
       "[array([14.03349365, 15.75777223, 13.88605716, 11.70785393, 15.41089838,\n",
       "        23.14535393, 32.35705081, 31.29334844, 21.17227772, 34.92612067,\n",
       "        31.90576674, 14.98117061, 18.71146103, 32.11514521, 41.82203262,\n",
       "        27.02331668, 19.42524047, 22.99944198, 36.00865242, 35.16890646,\n",
       "         8.57596189, 10.32660624, 29.56666512, 24.53798095, 21.80296738,\n",
       "        39.88661518, 20.05472777, 22.48862067, 14.81490474, 15.63221421,\n",
       "        32.03053089, 48.69823499, 36.11329849, 17.54158805, 21.5377451 ,\n",
       "        59.25888827, 18.32027223, 18.29367061, 19.8421507 , 40.64623412,\n",
       "        43.06370237]),\n",
       " {'d': array([ -0.92403811,   3.37708256,   2.78886114,  -0.45632939,\n",
       "          15.00592551, -12.36778579, -15.50592551,   1.51466426,\n",
       "          -4.52211432,  -3.67283574,   1.56338019,  -4.00328493,\n",
       "           7.33341195,  23.28132476,  16.94222315,  -4.27419688,\n",
       "          -3.41298095,  -2.93509526,  31.84318041,  -4.77988655,\n",
       "          -2.81458256,  -5.97724134,  19.23917869,  -8.53645641,\n",
       "           1.46081668,  18.75023585, -11.08998181,   3.60464607,\n",
       "           0.26017696,  14.64887471,   7.6713112 ,  21.65840732,\n",
       "          -3.9874183 ,  -3.57684209,  -2.17612067, -10.20240011,\n",
       "          11.17251356,  -8.69823499,  -0.32596189,  -9.41353897,\n",
       "           7.6838929 ])},\n",
       " {'d': array([ -1.83711731,  -0.44828774,   1.83711731,   7.10574299,\n",
       "          -0.19875988,  -3.12192135,   4.95903865,   6.64816407,\n",
       "          -5.33797604,  -6.07975799,  -1.31947922,  -8.64007489,\n",
       "          -2.09593635, -12.50377819,   9.98742766,  10.57192654,\n",
       "           6.2599355 ,  -3.25133087, -11.35767486,   2.8470095 ,\n",
       "          -3.86370331,   4.08784717,  -5.83023013,  -2.31078903,\n",
       "           1.77705814,   1.3702472 ,  -5.87170693,   5.62217907,\n",
       "           1.42350475,  -5.15779853,   6.66674644,  14.37557068,\n",
       "          -9.34967124,  -5.55282872,   2.57889927,  16.10866245,\n",
       "          -3.53553391,  -1.42350475,   1.57829826,  -0.87119148,\n",
       "           0.70710678,  -2.12132034,  14.79847442,   0.24023667,\n",
       "          -4.97513146,   2.60428326,   3.63026825,   8.45989738,\n",
       "           2.98322064,   0.15479351,  -6.64816407,  -0.87119148,\n",
       "          -6.85621513,   4.26122306,   4.24264069,  -2.61357444,\n",
       "          -0.18946869,  -2.74298396, -15.10806145,  -1.12071934,\n",
       "         -21.51598884,   1.78634932,   3.64885062,  -3.77826015,\n",
       "          -2.56960808,   0.51763809,  -0.77645714, -18.30862434,\n",
       "           4.81353633,  -2.94854546,   4.91507229,  -2.29469623,\n",
       "          -2.72440159,  -3.47547474,  -5.14850734,   0.58698844,\n",
       "           5.59679508,  -3.34606521,  -0.64704761,   3.06186218])}]"
      ]
     },
     "execution_count": 197,
     "metadata": {},
     "output_type": "execute_result"
    }
   ],
   "source": [
    "coeffs_felicidad"
   ]
  },
  {
   "cell_type": "code",
   "execution_count": 198,
   "metadata": {},
   "outputs": [],
   "source": [
    "dataset_emociones = pd.read_csv('C:/Users/David/Desktop/dataset_emociones.csv')"
   ]
  },
  {
   "cell_type": "code",
   "execution_count": 199,
   "metadata": {},
   "outputs": [
    {
     "data": {
      "text/plain": [
       "Id                      0\n",
       " Pico Onda Percusion    0\n",
       "Estado                  0\n",
       "dtype: int64"
      ]
     },
     "execution_count": 199,
     "metadata": {},
     "output_type": "execute_result"
    }
   ],
   "source": [
    "pd.isnull(dataset_emociones).sum()"
   ]
  },
  {
   "cell_type": "code",
   "execution_count": 200,
   "metadata": {},
   "outputs": [
    {
     "data": {
      "text/plain": [
       "(28, 3)"
      ]
     },
     "execution_count": 200,
     "metadata": {},
     "output_type": "execute_result"
    }
   ],
   "source": [
    "dataset_emociones.shape"
   ]
  },
  {
   "cell_type": "code",
   "execution_count": 201,
   "metadata": {},
   "outputs": [
    {
     "data": {
      "text/html": [
       "<div>\n",
       "<style scoped>\n",
       "    .dataframe tbody tr th:only-of-type {\n",
       "        vertical-align: middle;\n",
       "    }\n",
       "\n",
       "    .dataframe tbody tr th {\n",
       "        vertical-align: top;\n",
       "    }\n",
       "\n",
       "    .dataframe thead th {\n",
       "        text-align: right;\n",
       "    }\n",
       "</style>\n",
       "<table border=\"1\" class=\"dataframe\">\n",
       "  <thead>\n",
       "    <tr style=\"text-align: right;\">\n",
       "      <th></th>\n",
       "      <th>Id</th>\n",
       "      <th>Pico Onda Percusion</th>\n",
       "      <th>Estado</th>\n",
       "    </tr>\n",
       "  </thead>\n",
       "  <tbody>\n",
       "    <tr>\n",
       "      <th>0</th>\n",
       "      <td>1</td>\n",
       "      <td>-11.022704</td>\n",
       "      <td>Negativo</td>\n",
       "    </tr>\n",
       "    <tr>\n",
       "      <th>1</th>\n",
       "      <td>2</td>\n",
       "      <td>5.296499</td>\n",
       "      <td>Negativo</td>\n",
       "    </tr>\n",
       "    <tr>\n",
       "      <th>2</th>\n",
       "      <td>3</td>\n",
       "      <td>-0.568406</td>\n",
       "      <td>Negativo</td>\n",
       "    </tr>\n",
       "    <tr>\n",
       "      <th>3</th>\n",
       "      <td>4</td>\n",
       "      <td>-3.251331</td>\n",
       "      <td>Negativo</td>\n",
       "    </tr>\n",
       "    <tr>\n",
       "      <th>4</th>\n",
       "      <td>5</td>\n",
       "      <td>-4.337375</td>\n",
       "      <td>Negativo</td>\n",
       "    </tr>\n",
       "  </tbody>\n",
       "</table>\n",
       "</div>"
      ],
      "text/plain": [
       "   Id   Pico Onda Percusion    Estado\n",
       "0   1            -11.022704  Negativo\n",
       "1   2              5.296499  Negativo\n",
       "2   3             -0.568406  Negativo\n",
       "3   4             -3.251331  Negativo\n",
       "4   5             -4.337375  Negativo"
      ]
     },
     "execution_count": 201,
     "metadata": {},
     "output_type": "execute_result"
    }
   ],
   "source": [
    "dataset_emociones.head()\n"
   ]
  },
  {
   "cell_type": "code",
   "execution_count": 238,
   "metadata": {},
   "outputs": [
    {
     "data": {
      "text/html": [
       "<div>\n",
       "<style scoped>\n",
       "    .dataframe tbody tr th:only-of-type {\n",
       "        vertical-align: middle;\n",
       "    }\n",
       "\n",
       "    .dataframe tbody tr th {\n",
       "        vertical-align: top;\n",
       "    }\n",
       "\n",
       "    .dataframe thead th {\n",
       "        text-align: right;\n",
       "    }\n",
       "</style>\n",
       "<table border=\"1\" class=\"dataframe\">\n",
       "  <thead>\n",
       "    <tr style=\"text-align: right;\">\n",
       "      <th></th>\n",
       "      <th>Id</th>\n",
       "      <th>Pico Onda Percusion</th>\n",
       "    </tr>\n",
       "  </thead>\n",
       "  <tbody>\n",
       "    <tr>\n",
       "      <th>count</th>\n",
       "      <td>28.000000</td>\n",
       "      <td>28.000000</td>\n",
       "    </tr>\n",
       "    <tr>\n",
       "      <th>mean</th>\n",
       "      <td>14.500000</td>\n",
       "      <td>0.974174</td>\n",
       "    </tr>\n",
       "    <tr>\n",
       "      <th>std</th>\n",
       "      <td>8.225975</td>\n",
       "      <td>7.051598</td>\n",
       "    </tr>\n",
       "    <tr>\n",
       "      <th>min</th>\n",
       "      <td>1.000000</td>\n",
       "      <td>-11.022704</td>\n",
       "    </tr>\n",
       "    <tr>\n",
       "      <th>25%</th>\n",
       "      <td>7.750000</td>\n",
       "      <td>-3.729026</td>\n",
       "    </tr>\n",
       "    <tr>\n",
       "      <th>50%</th>\n",
       "      <td>14.500000</td>\n",
       "      <td>-0.508347</td>\n",
       "    </tr>\n",
       "    <tr>\n",
       "      <th>75%</th>\n",
       "      <td>21.250000</td>\n",
       "      <td>6.762559</td>\n",
       "    </tr>\n",
       "    <tr>\n",
       "      <th>max</th>\n",
       "      <td>28.000000</td>\n",
       "      <td>13.788582</td>\n",
       "    </tr>\n",
       "  </tbody>\n",
       "</table>\n",
       "</div>"
      ],
      "text/plain": [
       "              Id   Pico Onda Percusion\n",
       "count  28.000000             28.000000\n",
       "mean   14.500000              0.974174\n",
       "std     8.225975              7.051598\n",
       "min     1.000000            -11.022704\n",
       "25%     7.750000             -3.729026\n",
       "50%    14.500000             -0.508347\n",
       "75%    21.250000              6.762559\n",
       "max    28.000000             13.788582"
      ]
     },
     "execution_count": 238,
     "metadata": {},
     "output_type": "execute_result"
    }
   ],
   "source": [
    "dataset_emociones.describe()"
   ]
  },
  {
   "cell_type": "code",
   "execution_count": 239,
   "metadata": {},
   "outputs": [
    {
     "data": {
      "text/plain": [
       "Estado\n",
       "Negativo    15\n",
       "Positivo    13\n",
       "dtype: int64"
      ]
     },
     "execution_count": 239,
     "metadata": {},
     "output_type": "execute_result"
    }
   ],
   "source": [
    "dataset_emociones.groupby('Estado').size()"
   ]
  },
  {
   "cell_type": "code",
   "execution_count": null,
   "metadata": {},
   "outputs": [],
   "source": []
  },
  {
   "cell_type": "code",
   "execution_count": 240,
   "metadata": {},
   "outputs": [],
   "source": [
    "array = dataset_emociones.values\n",
    "X = array[:,0:2]\n",
    "Y = array[:,1]\n",
    "Y = Y.astype('int')\n",
    "validation_size = 0.20\n",
    "seed = 3\n",
    "X_train, X_validation, Y_train, Y_validation = model_selection.train_test_split(X, Y, test_size=validation_size, \n",
    "                                                                                random_state=seed)\n"
   ]
  },
  {
   "cell_type": "code",
   "execution_count": 241,
   "metadata": {},
   "outputs": [
    {
     "name": "stdout",
     "output_type": "stream",
     "text": [
      "[-11   5   0  -3  -4  10  -8  11  13  -3  -5  -3   7   9  13  -1   0   1\n",
      "   7   0  -3   4   6  -5  -6  -1  -8   2]\n"
     ]
    }
   ],
   "source": [
    "print (Y)"
   ]
  },
  {
   "cell_type": "code",
   "execution_count": 242,
   "metadata": {},
   "outputs": [],
   "source": [
    "seed = 3\n",
    "scoring = 'accuracy'"
   ]
  },
  {
   "cell_type": "code",
   "execution_count": 243,
   "metadata": {},
   "outputs": [
    {
     "name": "stdout",
     "output_type": "stream",
     "text": [
      "LR: 0.150000 (0.229129)\n",
      "LDA: 0.450000 (0.279384)\n",
      "KNN: 0.100000 (0.200000)\n",
      "CART: 0.250000 (0.335410)\n",
      "NB: 0.200000 (0.331662)\n",
      "SVM: 0.150000 (0.229129)\n"
     ]
    },
    {
     "name": "stderr",
     "output_type": "stream",
     "text": [
      "C:\\Users\\David\\Anaconda3\\lib\\site-packages\\sklearn\\discriminant_analysis.py:442: UserWarning: The priors do not sum to 1. Renormalizing\n",
      "  UserWarning)\n",
      "C:\\Users\\David\\Anaconda3\\lib\\site-packages\\sklearn\\discriminant_analysis.py:442: UserWarning: The priors do not sum to 1. Renormalizing\n",
      "  UserWarning)\n",
      "C:\\Users\\David\\Anaconda3\\lib\\site-packages\\sklearn\\discriminant_analysis.py:442: UserWarning: The priors do not sum to 1. Renormalizing\n",
      "  UserWarning)\n",
      "C:\\Users\\David\\Anaconda3\\lib\\site-packages\\sklearn\\discriminant_analysis.py:442: UserWarning: The priors do not sum to 1. Renormalizing\n",
      "  UserWarning)\n",
      "C:\\Users\\David\\Anaconda3\\lib\\site-packages\\sklearn\\discriminant_analysis.py:442: UserWarning: The priors do not sum to 1. Renormalizing\n",
      "  UserWarning)\n",
      "C:\\Users\\David\\Anaconda3\\lib\\site-packages\\sklearn\\discriminant_analysis.py:442: UserWarning: The priors do not sum to 1. Renormalizing\n",
      "  UserWarning)\n",
      "C:\\Users\\David\\Anaconda3\\lib\\site-packages\\sklearn\\discriminant_analysis.py:442: UserWarning: The priors do not sum to 1. Renormalizing\n",
      "  UserWarning)\n",
      "C:\\Users\\David\\Anaconda3\\lib\\site-packages\\sklearn\\discriminant_analysis.py:442: UserWarning: The priors do not sum to 1. Renormalizing\n",
      "  UserWarning)\n",
      "C:\\Users\\David\\Anaconda3\\lib\\site-packages\\sklearn\\discriminant_analysis.py:442: UserWarning: The priors do not sum to 1. Renormalizing\n",
      "  UserWarning)\n"
     ]
    }
   ],
   "source": [
    "models = []\n",
    "models.append(('LR', LogisticRegression()))\n",
    "models.append(('LDA', LinearDiscriminantAnalysis()))\n",
    "models.append(('KNN', KNeighborsClassifier()))\n",
    "models.append(('CART', DecisionTreeClassifier()))\n",
    "models.append(('NB', GaussianNB()))\n",
    "models.append(('SVM', SVC()))\n",
    "# evaluate each model in turn\n",
    "results = []\n",
    "names = []\n",
    "for name, model in models:\n",
    "    kfold = model_selection.KFold(n_splits=10, random_state=seed)\n",
    "    cv_results = model_selection.cross_val_score(model, X_train, Y_train, cv=kfold, scoring=scoring)\n",
    "    results.append(cv_results)\n",
    "    names.append(name)\n",
    "    msg = \"%s: %f (%f)\" % (name, cv_results.mean(), cv_results.std())\n",
    "    print(msg)"
   ]
  },
  {
   "cell_type": "code",
   "execution_count": 244,
   "metadata": {},
   "outputs": [
    {
     "data": {
      "text/plain": [
       "0.0"
      ]
     },
     "execution_count": 244,
     "metadata": {},
     "output_type": "execute_result"
    }
   ],
   "source": [
    "clf=svm.SVC()\n",
    "clf.fit(X_train,Y_train)\n",
    "#precisión del modelo\n",
    "y_predict_class=clf.predict(X_validation)\n",
    "metrics.accuracy_score(Y_validation,y_predict_class)"
   ]
  },
  {
   "cell_type": "code",
   "execution_count": null,
   "metadata": {},
   "outputs": [],
   "source": []
  },
  {
   "cell_type": "code",
   "execution_count": null,
   "metadata": {},
   "outputs": [],
   "source": []
  }
 ],
 "metadata": {
  "kernelspec": {
   "display_name": "Python 3",
   "language": "python",
   "name": "python3"
  },
  "language_info": {
   "codemirror_mode": {
    "name": "ipython",
    "version": 3
   },
   "file_extension": ".py",
   "mimetype": "text/x-python",
   "name": "python",
   "nbconvert_exporter": "python",
   "pygments_lexer": "ipython3",
   "version": "3.6.4"
  }
 },
 "nbformat": 4,
 "nbformat_minor": 2
}
